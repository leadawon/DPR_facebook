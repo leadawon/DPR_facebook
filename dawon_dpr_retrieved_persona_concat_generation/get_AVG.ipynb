{
 "cells": [
  {
   "cell_type": "code",
   "execution_count": 1,
   "metadata": {},
   "outputs": [],
   "source": [
    "\n",
    "\n",
    "import json\n",
    "\n",
    "\n",
    "import numpy as np\n",
    "\n",
    "from tqdm import tqdm\n",
    "\n",
    "import re\n",
    "\n",
    "from pprint import pprint"
   ]
  },
  {
   "cell_type": "code",
   "execution_count": 14,
   "metadata": {},
   "outputs": [],
   "source": [
    "score_sum = 0\n",
    "cnt = 0\n",
    "cnt_all = 0\n",
    "with open(\"./bigdata/utterance_persona_dpr.jsonl\") as f:\n",
    "    for json_line in f:\n",
    "        json_file = json.loads(json_line)\n",
    "        dic_list=json_file[\"extracted_persona_list\"]\n",
    "        for i,dic in enumerate(dic_list):\n",
    "            for sc_list in dic[\"3persona\"]:\n",
    "                if type(sc_list[1]) == float:\n",
    "                    score_sum += sc_list[1]\n",
    "                    cnt += 1\n",
    "                cnt_all += 1"
   ]
  },
  {
   "cell_type": "code",
   "execution_count": 15,
   "metadata": {},
   "outputs": [
    {
     "name": "stdout",
     "output_type": "stream",
     "text": [
      "62.7039707863089\n"
     ]
    }
   ],
   "source": [
    "print(score_sum / cnt)"
   ]
  },
  {
   "cell_type": "code",
   "execution_count": 16,
   "metadata": {},
   "outputs": [
    {
     "name": "stdout",
     "output_type": "stream",
     "text": [
      "134358 139009\n"
     ]
    }
   ],
   "source": [
    "print(cnt, cnt_all)"
   ]
  },
  {
   "cell_type": "code",
   "execution_count": null,
   "metadata": {},
   "outputs": [],
   "source": []
  }
 ],
 "metadata": {
  "kernelspec": {
   "display_name": "bartvenv",
   "language": "python",
   "name": "bartvenv"
  },
  "language_info": {
   "codemirror_mode": {
    "name": "ipython",
    "version": 3
   },
   "file_extension": ".py",
   "mimetype": "text/x-python",
   "name": "python",
   "nbconvert_exporter": "python",
   "pygments_lexer": "ipython3",
   "version": "3.7.6"
  }
 },
 "nbformat": 4,
 "nbformat_minor": 4
}
