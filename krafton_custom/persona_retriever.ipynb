{
 "cells": [
  {
   "cell_type": "code",
   "execution_count": 13,
   "metadata": {},
   "outputs": [],
   "source": [
    "import torch\n",
    "import numpy as np\n",
    "\n",
    "from transformers import AutoTokenizer, DPRQuestionEncoder, DPRContextEncoder\n",
    "from typing import List\n",
    "\n",
    "class BiEncoderRetriever:\n",
    "    def __init__(self) -> None:\n",
    "        self.device = \"cuda:0\" if torch.cuda.is_available() else \"cpu\"\n",
    "        self.tokenizer = AutoTokenizer.from_pretrained(\"sivasankalpp/dpr-multidoc2dial-structure-question-encoder\")\n",
    "        self.question_encoder = DPRQuestionEncoder.from_pretrained(\"sivasankalpp/dpr-multidoc2dial-structure-question-encoder\").to(self.device)\n",
    "        self.ctxt_encoder = DPRContextEncoder.from_pretrained(\"sivasankalpp/dpr-multidoc2dial-structure-ctx-encoder\").to(self.device)\n",
    "\n",
    "    def encode_summaries(self, summaries: List[str]):\n",
    "        input_dict = self.tokenizer(summaries, padding='max_length', max_length=128, truncation=True, return_tensors=\"pt\").to(self.device)\n",
    "        del input_dict[\"token_type_ids\"]\n",
    "        return self.ctxt_encoder(**input_dict)['pooler_output']\n",
    "\n",
    "    def encode_question(self, question: str):\n",
    "        input_dict = self.tokenizer(question, padding='max_length', max_length=32, truncation=True, return_tensors=\"pt\").to(self.device)\n",
    "        del input_dict[\"token_type_ids\"]\n",
    "        return self.question_encoder(**input_dict)['pooler_output']\n",
    "\n",
    "    def retrieve_top_summaries(self, question: str, summaries: List[str], encoded_summaries: np.ndarray = None, topk: int = 5):\n",
    "        encoded_question = self.encode_question(question)\n",
    "        if encoded_summaries is None:\n",
    "            encoded_summaries = self.encode_summaries(summaries)\n",
    "        else:\n",
    "            encoded_summaries = torch.from_numpy(encoded_summaries).to(self.device)\n",
    "\n",
    "        scores = torch.mm(encoded_question, encoded_summaries.T)\n",
    "        if topk >= len(summaries):\n",
    "            return summaries\n",
    "        top_k = torch.topk(scores, topk).indices.squeeze()\n",
    "        return [summaries[i] for i in top_k]"
   ]
  },
  {
   "cell_type": "code",
   "execution_count": 14,
   "metadata": {},
   "outputs": [],
   "source": [
    "rt = BiEncoderRetriever()"
   ]
  },
  {
   "cell_type": "code",
   "execution_count": 15,
   "metadata": {},
   "outputs": [],
   "source": [
    "question = \"What does Sarah do for a living\"\n",
    "personalist = ['Sarah is 24 years old.', 'Sarah currently lives in Canada.', \"Sarah is a swim coach at Sarah's local pool.\", 'Sarah is studying to be a computer programmer.', 'Sarah is also a graduate student.', 'Sarah is now looking for a new job.', \"Sarah's mother is very traditional while Sarah prefers to be more free spirited.\", \"Sarah's family and Sarah are from India.\", \"Sarah's favorite music genre is death metal.\", 'Sarah is a famous twitch streamer.', 'Sarah likes watching war documentaries.', \"Sarah's favorite food is mexican food.\"]"
   ]
  },
  {
   "cell_type": "code",
   "execution_count": 28,
   "metadata": {},
   "outputs": [
    {
     "name": "stdout",
     "output_type": "stream",
     "text": [
      "['Speaker 2 is high school student.', 'Speaker 2 is waiting to get a job.', 'Speaker 2 would like to become an engineer.', 'Speaker 2 used to play basketball.', \"Speaker 2's dad is strict, preventing the speaker 2 from doing basketball as a profession.\"]\n"
     ]
    }
   ],
   "source": [
    "print(rt.retrieve_top_summaries( # here is using encodings.?!@\n",
    "                question, personalist, None, topk=5\n",
    "            ))"
   ]
  },
  {
   "cell_type": "code",
   "execution_count": 36,
   "metadata": {},
   "outputs": [],
   "source": [
    "question = \"That's a bummer. Hopefully once you move out you can at least find something active that you enjoy doing with friends. How is the job search going?\"\n",
    "personalist = [\"Speaker 1 is professional basketball player.\",\n",
    "\"Speaker 2 is high school student.\",\n",
    "\"Speaker 2 is waiting to get a job.\",\n",
    "\"Speaker 2 would like to become an engineer.\",\n",
    "\"Speaker 2 used to play basketball.\",\n",
    "\"Speaker 2's dad is strict, preventing the speaker 2 from doing basketball as a profession.\"]"
   ]
  },
  {
   "cell_type": "code",
   "execution_count": 37,
   "metadata": {},
   "outputs": [
    {
     "name": "stdout",
     "output_type": "stream",
     "text": [
      "['Speaker 2 is waiting to get a job.', 'Speaker 2 is high school student.', 'Speaker 1 is professional basketball player.']\n"
     ]
    }
   ],
   "source": [
    "print(rt.retrieve_top_summaries( # here is using encodings.?!@\n",
    "                question, personalist, None, topk=3\n",
    "            ))"
   ]
  },
  {
   "cell_type": "code",
   "execution_count": 38,
   "metadata": {},
   "outputs": [],
   "source": [
    "question = \"I should be able to do better. I just need to work harder at it. I missed 3 free throws, so my coach is pushing me hard at practice. Do you play basketball or any sports?\"\n",
    "personalist = [\"Speaker 1 is professional basketball player.\",\n",
    "\"Speaker 2 is high school student.\",\n",
    "\"Speaker 2 is waiting to get a job.\",\n",
    "\"Speaker 2 would like to become an engineer.\",\n",
    "\"Speaker 2 used to play basketball.\",\n",
    "\"Speaker 2's dad is strict, preventing the speaker 2 from doing basketball as a profession.\"]"
   ]
  },
  {
   "cell_type": "code",
   "execution_count": 39,
   "metadata": {},
   "outputs": [
    {
     "name": "stdout",
     "output_type": "stream",
     "text": [
      "[\"Speaker 2's dad is strict, preventing the speaker 2 from doing basketball as a profession.\", 'Speaker 2 is high school student.', 'Speaker 2 used to play basketball.']\n"
     ]
    }
   ],
   "source": [
    "print(rt.retrieve_top_summaries( # here is using encodings.?!@\n",
    "                question, personalist, None, topk=3\n",
    "            ))"
   ]
  },
  {
   "cell_type": "code",
   "execution_count": 40,
   "metadata": {},
   "outputs": [],
   "source": [
    "question = \"This is meant as advice and a little funny. Buy one that is bright-colored so it won't blend in your surroundings and you lose it easily.\"\n",
    "personalist = [\"Speaker 1 works as waiter.\",\n",
    "\"Speaker 1 regrets career choices.\",\n",
    "\"Speaker 2’s roommates hate Speaker 2’s parakeet.\",\n",
    "\"Speaker 2’s favorite color is orange.\"]"
   ]
  },
  {
   "cell_type": "code",
   "execution_count": 41,
   "metadata": {},
   "outputs": [
    {
     "name": "stdout",
     "output_type": "stream",
     "text": [
      "['Speaker 2’s favorite color is orange.', 'Speaker 2’s roommates hate Speaker 2’s parakeet.']\n"
     ]
    }
   ],
   "source": [
    "print(rt.retrieve_top_summaries( # here is using encodings.?!@\n",
    "                question, personalist, None, topk=2\n",
    "            ))"
   ]
  },
  {
   "cell_type": "code",
   "execution_count": null,
   "metadata": {},
   "outputs": [],
   "source": []
  },
  {
   "cell_type": "code",
   "execution_count": null,
   "metadata": {},
   "outputs": [],
   "source": []
  },
  {
   "cell_type": "code",
   "execution_count": null,
   "metadata": {},
   "outputs": [],
   "source": []
  },
  {
   "cell_type": "code",
   "execution_count": null,
   "metadata": {},
   "outputs": [],
   "source": []
  }
 ],
 "metadata": {
  "kernelspec": {
   "display_name": "dprvenv",
   "language": "python",
   "name": "dprvenv"
  },
  "language_info": {
   "codemirror_mode": {
    "name": "ipython",
    "version": 3
   },
   "file_extension": ".py",
   "mimetype": "text/x-python",
   "name": "python",
   "nbconvert_exporter": "python",
   "pygments_lexer": "ipython3",
   "version": "3.7.6"
  }
 },
 "nbformat": 4,
 "nbformat_minor": 4
}
