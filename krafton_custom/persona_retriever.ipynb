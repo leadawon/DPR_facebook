{
 "cells": [
  {
   "cell_type": "code",
   "execution_count": 26,
   "metadata": {},
   "outputs": [],
   "source": [
    "import torch\n",
    "import numpy as np\n",
    "\n",
    "from transformers import AutoTokenizer, DPRQuestionEncoder, DPRContextEncoder\n",
    "from typing import List\n",
    "\n",
    "from pprint import pprint\n",
    "\n",
    "class BiEncoderRetriever:\n",
    "    def __init__(self) -> None:\n",
    "        self.device = \"cuda:0\" if torch.cuda.is_available() else \"cpu\"\n",
    "        self.tokenizer = AutoTokenizer.from_pretrained(\"sivasankalpp/dpr-multidoc2dial-structure-question-encoder\")\n",
    "        self.question_encoder = DPRQuestionEncoder.from_pretrained(\"sivasankalpp/dpr-multidoc2dial-structure-question-encoder\").to(self.device)\n",
    "        self.ctxt_encoder = DPRContextEncoder.from_pretrained(\"sivasankalpp/dpr-multidoc2dial-structure-ctx-encoder\").to(self.device)\n",
    "\n",
    "    def encode_summaries(self, summaries: List[str]):\n",
    "        input_dict = self.tokenizer(summaries, padding='max_length', max_length=128, truncation=True, return_tensors=\"pt\").to(self.device)\n",
    "        del input_dict[\"token_type_ids\"]\n",
    "        return self.ctxt_encoder(**input_dict)['pooler_output']\n",
    "\n",
    "    def encode_question(self, question: str):\n",
    "        input_dict = self.tokenizer(question, padding='max_length', max_length=32, truncation=True, return_tensors=\"pt\").to(self.device)\n",
    "        del input_dict[\"token_type_ids\"]\n",
    "        return self.question_encoder(**input_dict)['pooler_output']\n",
    "\n",
    "    def retrieve_top_summaries(self, question: str, summaries: List[str], encoded_summaries: np.ndarray = None, topk: int = 5):\n",
    "        encoded_question = self.encode_question(question)\n",
    "        if encoded_summaries is None:\n",
    "            encoded_summaries = self.encode_summaries(summaries)\n",
    "        else:\n",
    "            encoded_summaries = torch.from_numpy(encoded_summaries).to(self.device)\n",
    "\n",
    "        scores = torch.mm(encoded_question, encoded_summaries.T)\n",
    "        # print(encoded_question.shape)\n",
    "        # print(encoded_summaries.T.shape)\n",
    "        if topk >= len(summaries):\n",
    "            return summaries\n",
    "        top_k = torch.topk(scores, topk).indices.squeeze()\n",
    "        \n",
    "        print(\"all scores : \")\n",
    "        for i,v in enumerate(scores[0]):\n",
    "            print(int(v.item()),end=\" \")\n",
    "        print()\n",
    "        \n",
    "        return [(summaries[i],scores[0][i].item()) for i in top_k]"
   ]
  },
  {
   "cell_type": "code",
   "execution_count": 27,
   "metadata": {},
   "outputs": [],
   "source": [
    "rt = BiEncoderRetriever()"
   ]
  },
  {
   "cell_type": "code",
   "execution_count": 28,
   "metadata": {},
   "outputs": [],
   "source": [
    "question = \"What does Sarah do for a living\"\n",
    "personalist = ['Sarah is 24 years old.', \n",
    "               'Sarah currently lives in Canada.', \n",
    "               \"Sarah is a swim coach at Sarah's local pool.\", \n",
    "               'Sarah is studying to be a computer programmer.', \n",
    "               'Sarah is also a graduate student.', \n",
    "               'Sarah is now looking for a new job.', \n",
    "               \"Sarah's mother is very traditional while Sarah prefers to be more free spirited.\", \n",
    "               \"Sarah's family and Sarah are from India.\", \n",
    "               \"Sarah's favorite music genre is death metal.\", \n",
    "               'Sarah is a famous twitch streamer.', \n",
    "               'Sarah likes watching war documentaries.', \n",
    "               \"Sarah's favorite food is mexican food.\"]"
   ]
  },
  {
   "cell_type": "code",
   "execution_count": 29,
   "metadata": {},
   "outputs": [
    {
     "name": "stdout",
     "output_type": "stream",
     "text": [
      "all scores : \n",
      "72 72 73 74 71 73 73 71 64 69 66 69 \n",
      "[('Sarah is studying to be a computer programmer.', 74.15234375),\n",
      " ('Sarah is now looking for a new job.', 73.7214584350586),\n",
      " (\"Sarah's mother is very traditional while Sarah prefers to be more free \"\n",
      "  'spirited.',\n",
      "  73.61085510253906),\n",
      " (\"Sarah is a swim coach at Sarah's local pool.\", 73.37893676757812),\n",
      " ('Sarah currently lives in Canada.', 72.65416717529297)]\n"
     ]
    }
   ],
   "source": [
    "pprint(rt.retrieve_top_summaries( # here is using encodings.?!@\n",
    "                question, personalist, None, topk=5\n",
    "            ))"
   ]
  },
  {
   "cell_type": "code",
   "execution_count": 30,
   "metadata": {},
   "outputs": [],
   "source": [
    "question = \"That's a bummer. Hopefully once you move out you can at least find something active that you enjoy doing with friends. How is the job search going?\"\n",
    "personalist = [\"Speaker 1 is professional basketball player.\",\n",
    "\"Speaker 2 is high school student.\",\n",
    "\"Speaker 2 is waiting to get a job.\",\n",
    "\"Speaker 2 would like to become an engineer.\",\n",
    "\"Speaker 2 used to play basketball.\",\n",
    "\"Speaker 2's dad is strict, preventing the speaker 2 from doing basketball as a profession.\"]"
   ]
  },
  {
   "cell_type": "code",
   "execution_count": 31,
   "metadata": {},
   "outputs": [
    {
     "name": "stdout",
     "output_type": "stream",
     "text": [
      "all scores : \n",
      "62 63 65 59 60 60 \n",
      "[('Speaker 2 is waiting to get a job.', 65.63642120361328),\n",
      " ('Speaker 2 is high school student.', 63.490013122558594),\n",
      " ('Speaker 1 is professional basketball player.', 62.49553680419922)]\n"
     ]
    }
   ],
   "source": [
    "pprint(rt.retrieve_top_summaries( # here is using encodings.?!@\n",
    "                question, personalist, None, topk=3\n",
    "            ))"
   ]
  },
  {
   "cell_type": "code",
   "execution_count": 32,
   "metadata": {},
   "outputs": [],
   "source": [
    "question = \"I should be able to do better. I just need to work harder at it. I missed 3 free throws, so my coach is pushing me hard at practice. Do you play basketball or any sports?\"\n",
    "personalist = [\"Speaker 1 is professional basketball player.\",\n",
    "\"Speaker 2 is high school student.\",\n",
    "\"Speaker 2 is waiting to get a job.\",\n",
    "\"Speaker 2 would like to become an engineer.\",\n",
    "\"Speaker 2 used to play basketball.\",\n",
    "\"Speaker 2's dad is strict, preventing the speaker 2 from doing basketball as a profession.\"]"
   ]
  },
  {
   "cell_type": "code",
   "execution_count": 33,
   "metadata": {},
   "outputs": [
    {
     "name": "stdout",
     "output_type": "stream",
     "text": [
      "all scores : \n",
      "56 56 56 53 56 62 \n",
      "[(\"Speaker 2's dad is strict, preventing the speaker 2 from doing basketball \"\n",
      "  'as a profession.',\n",
      "  62.10819625854492),\n",
      " ('Speaker 2 is high school student.', 56.86595916748047),\n",
      " ('Speaker 2 used to play basketball.', 56.648990631103516)]\n"
     ]
    }
   ],
   "source": [
    "pprint(rt.retrieve_top_summaries( # here is using encodings.?!@\n",
    "                question, personalist, None, topk=3\n",
    "            ))"
   ]
  },
  {
   "cell_type": "code",
   "execution_count": 34,
   "metadata": {},
   "outputs": [],
   "source": [
    "question = \"This is meant as advice and a little funny. Buy one that is bright-colored so it won't blend in your surroundings and you lose it easily.\"\n",
    "personalist = [\"Speaker 1 works as waiter.\",\n",
    "\"Speaker 1 regrets career choices.\",\n",
    "\"Speaker 2’s roommates hate Speaker 2’s parakeet.\",\n",
    "\"Speaker 2’s favorite color is orange.\"]"
   ]
  },
  {
   "cell_type": "code",
   "execution_count": 35,
   "metadata": {},
   "outputs": [
    {
     "name": "stdout",
     "output_type": "stream",
     "text": [
      "all scores : \n",
      "53 55 57 62 \n",
      "[('Speaker 2’s favorite color is orange.', 62.0982551574707),\n",
      " ('Speaker 2’s roommates hate Speaker 2’s parakeet.', 57.907135009765625)]\n"
     ]
    }
   ],
   "source": [
    "pprint(rt.retrieve_top_summaries( # here is using encodings.?!@\n",
    "                question, personalist, None, topk=2\n",
    "            ))"
   ]
  },
  {
   "cell_type": "markdown",
   "metadata": {},
   "source": [
    "내가 직접 만든 예시"
   ]
  },
  {
   "cell_type": "code",
   "execution_count": 36,
   "metadata": {},
   "outputs": [
    {
     "name": "stdout",
     "output_type": "stream",
     "text": [
      "all scores : \n",
      "59 62 56 62 62 63 \n",
      "[(\"Speaker 2's dad is strict, preventing the speaker 2 from doing basketball \"\n",
      "  'as a profession.',\n",
      "  63.28627014160156),\n",
      " ('Speaker 2 would like to become an engineer.', 62.90799331665039),\n",
      " ('Speaker 2 is high school student.', 62.81760025024414)]\n"
     ]
    }
   ],
   "source": [
    "question = \"Do you have any hobbies or interests outside of school and work?\"\n",
    "personalist = [\"Speaker 1 is professional basketball player.\",\n",
    "\"Speaker 2 is high school student.\",\n",
    "\"Speaker 2 is waiting to get a job.\",\n",
    "\"Speaker 2 would like to become an engineer.\",\n",
    "\"Speaker 2 used to play basketball.\",\n",
    "\"Speaker 2's dad is strict, preventing the speaker 2 from doing basketball as a profession.\"]\n",
    "pprint(rt.retrieve_top_summaries( # here is using encodings.?!@\n",
    "                question, personalist, None, topk=3\n",
    "            ))"
   ]
  },
  {
   "cell_type": "code",
   "execution_count": 37,
   "metadata": {},
   "outputs": [
    {
     "name": "stdout",
     "output_type": "stream",
     "text": [
      "all scores : \n",
      "74 74 67 68 71 72 \n",
      "[('Speaker 1 is professional basketball player.', 74.68264770507812),\n",
      " ('Speaker 2 is high school student.', 74.30900573730469),\n",
      " (\"Speaker 2's dad is strict, preventing the speaker 2 from doing basketball \"\n",
      "  'as a profession.',\n",
      "  72.72579193115234)]\n"
     ]
    }
   ],
   "source": [
    "question = \"Does Speaker 1 have any hobbies or interests outside of school and work?\"\n",
    "personalist = [\"Speaker 1 is professional basketball player.\",\n",
    "\"Speaker 2 is high school student.\",\n",
    "\"Speaker 2 is waiting to get a job.\",\n",
    "\"Speaker 2 would like to become an engineer.\",\n",
    "\"Speaker 2 used to play basketball.\",\n",
    "\"Speaker 2's dad is strict, preventing the speaker 2 from doing basketball as a profession.\"]\n",
    "pprint(rt.retrieve_top_summaries( # here is using encodings.?!@\n",
    "                question, personalist, None, topk=3\n",
    "            ))"
   ]
  },
  {
   "cell_type": "code",
   "execution_count": 38,
   "metadata": {},
   "outputs": [
    {
     "name": "stdout",
     "output_type": "stream",
     "text": [
      "all scores : \n",
      "56 60 54 59 61 60 \n",
      "[('Speaker 2 used to play basketball.', 61.53269577026367),\n",
      " ('Speaker 2 is high school student.', 60.758575439453125),\n",
      " (\"Speaker 2's dad is strict, preventing the speaker 2 from doing basketball \"\n",
      "  'as a profession.',\n",
      "  60.383460998535156)]\n"
     ]
    }
   ],
   "source": [
    "question = \"When you were a kid, did you have any hobbies or interests outside of school and work?\"\n",
    "personalist = [\"Speaker 1 is professional basketball player.\",\n",
    "\"Speaker 2 is high school student.\",\n",
    "\"Speaker 2 is waiting to get a job.\",\n",
    "\"Speaker 2 would like to become an engineer.\",\n",
    "\"Speaker 2 used to play basketball.\",\n",
    "\"Speaker 2's dad is strict, preventing the speaker 2 from doing basketball as a profession.\"]\n",
    "pprint(rt.retrieve_top_summaries( # here is using encodings.?!@\n",
    "                question, personalist, None, topk=3\n",
    "            ))"
   ]
  },
  {
   "cell_type": "markdown",
   "metadata": {},
   "source": [
    "페르소나 수를 늘려보자"
   ]
  },
  {
   "cell_type": "code",
   "execution_count": 39,
   "metadata": {},
   "outputs": [
    {
     "name": "stdout",
     "output_type": "stream",
     "text": [
      "all scores : \n",
      "62 60 53 62 55 58 55 54 61 62 50 54 \n",
      "[('Speaker 1 has a fear of deep water.', 62.31932830810547),\n",
      " ('Speaker 2 loves mystery novels and has a collection.', 62.11561965942383),\n",
      " ('Speaker 1 is passionate rock climber.', 62.04978561401367)]\n"
     ]
    }
   ],
   "source": [
    "question = \"Do you enjoy outdoor adventures or prefer staying indoors?\"\n",
    "personalist = [\"Speaker 1 is passionate rock climber.\",\n",
    "\"Speaker 1 grew up on a farm in the countryside.\",\n",
    "\"Speaker 1 is a trained classical pianist.\",\n",
    "\"Speaker 1 has a fear of deep water.\",\n",
    "\"Speaker 1 is a professional photographer.\",\n",
    "\"Speaker 1 volunteered in a wildlife sanctuary last summer.\",\n",
    "\"Speaker 2 is a professional dancer specializing in contemporary dance.\",\n",
    "\"Speaker 2 has lived in three different countries.\",\n",
    "\"Speaker 2 is studying marine biology.\",\n",
    "\"Speaker 2 loves mystery novels and has a collection.\",\n",
    "\"Speaker 2 has a twin sibling.\",\n",
    "\"Speaker 2 is allergic to peanuts.\",              \n",
    "]\n",
    "pprint(rt.retrieve_top_summaries( # here is using encodings.?!@\n",
    "                question, personalist, None, topk=3\n",
    "            ))"
   ]
  },
  {
   "cell_type": "code",
   "execution_count": 40,
   "metadata": {},
   "outputs": [
    {
     "name": "stdout",
     "output_type": "stream",
     "text": [
      "all scores : \n",
      "59 57 59 52 65 58 60 54 61 55 50 49 \n",
      "[('Speaker 1 is a professional photographer.', 65.19570922851562),\n",
      " ('Speaker 2 is studying marine biology.', 61.44655990600586),\n",
      " ('Speaker 2 is a professional dancer specializing in contemporary dance.',\n",
      "  60.75514602661133)]\n"
     ]
    }
   ],
   "source": [
    "question = \"Your perspective on things is unique. Does your profession involve capturing moments or emotions?\"\n",
    "personalist = [\"Speaker 1 is passionate rock climber.\",\n",
    "\"Speaker 1 grew up on a farm in the countryside.\",\n",
    "\"Speaker 1 is a trained classical pianist.\",\n",
    "\"Speaker 1 has a fear of deep water.\",\n",
    "\"Speaker 1 is a professional photographer.\",\n",
    "\"Speaker 1 volunteered in a wildlife sanctuary last summer.\",\n",
    "\"Speaker 2 is a professional dancer specializing in contemporary dance.\",\n",
    "\"Speaker 2 has lived in three different countries.\",\n",
    "\"Speaker 2 is studying marine biology.\",\n",
    "\"Speaker 2 loves mystery novels and has a collection.\",\n",
    "\"Speaker 2 has a twin sibling.\",\n",
    "\"Speaker 2 is allergic to peanuts.\",              \n",
    "]\n",
    "pprint(rt.retrieve_top_summaries( # here is using encodings.?!@\n",
    "                question, personalist, None, topk=3\n",
    "            ))"
   ]
  },
  {
   "cell_type": "code",
   "execution_count": 41,
   "metadata": {},
   "outputs": [
    {
     "name": "stdout",
     "output_type": "stream",
     "text": [
      "all scores : \n",
      "62 61 63 59 60 59 67 60 62 61 56 56 \n",
      "[('Speaker 2 is a professional dancer specializing in contemporary dance.',\n",
      "  67.8241195678711),\n",
      " ('Speaker 1 is a trained classical pianist.', 63.435401916503906),\n",
      " ('Speaker 1 is passionate rock climber.', 62.821388244628906)]\n"
     ]
    }
   ],
   "source": [
    "question = \"You have such a fluid movement. Is there a specific art form you're involved in?\"\n",
    "personalist = [\"Speaker 1 is passionate rock climber.\",\n",
    "\"Speaker 1 grew up on a farm in the countryside.\",\n",
    "\"Speaker 1 is a trained classical pianist.\",\n",
    "\"Speaker 1 has a fear of deep water.\",\n",
    "\"Speaker 1 is a professional photographer.\",\n",
    "\"Speaker 1 volunteered in a wildlife sanctuary last summer.\",\n",
    "\"Speaker 2 is a professional dancer specializing in contemporary dance.\",\n",
    "\"Speaker 2 has lived in three different countries.\",\n",
    "\"Speaker 2 is studying marine biology.\",\n",
    "\"Speaker 2 loves mystery novels and has a collection.\",\n",
    "\"Speaker 2 has a twin sibling.\",\n",
    "\"Speaker 2 is allergic to peanuts.\",              \n",
    "]\n",
    "pprint(rt.retrieve_top_summaries( # here is using encodings.?!@\n",
    "                question, personalist, None, topk=3\n",
    "            ))"
   ]
  },
  {
   "cell_type": "code",
   "execution_count": 42,
   "metadata": {},
   "outputs": [
    {
     "name": "stdout",
     "output_type": "stream",
     "text": [
      "all scores : \n",
      "57 60 57 55 58 60 58 66 57 57 54 50 \n",
      "[('Speaker 2 has lived in three different countries.', 66.7225112915039),\n",
      " ('Speaker 1 volunteered in a wildlife sanctuary last summer.',\n",
      "  60.29518127441406),\n",
      " ('Speaker 1 grew up on a farm in the countryside.', 60.26553726196289)]\n"
     ]
    }
   ],
   "source": [
    "question = \"You seem to have a diverse cultural understanding. Have you lived in multiple places?\"\n",
    "personalist = [\"Speaker 1 is passionate rock climber.\",\n",
    "\"Speaker 1 grew up on a farm in the countryside.\",\n",
    "\"Speaker 1 is a trained classical pianist.\",\n",
    "\"Speaker 1 has a fear of deep water.\",\n",
    "\"Speaker 1 is a professional photographer.\",\n",
    "\"Speaker 1 volunteered in a wildlife sanctuary last summer.\",\n",
    "\"Speaker 2 is a professional dancer specializing in contemporary dance.\",\n",
    "\"Speaker 2 has lived in three different countries.\",\n",
    "\"Speaker 2 is studying marine biology.\",\n",
    "\"Speaker 2 loves mystery novels and has a collection.\",\n",
    "\"Speaker 2 has a twin sibling.\",\n",
    "\"Speaker 2 is allergic to peanuts.\",              \n",
    "]\n",
    "pprint(rt.retrieve_top_summaries( # here is using encodings.?!@\n",
    "                question, personalist, None, topk=3\n",
    "            ))"
   ]
  },
  {
   "cell_type": "markdown",
   "metadata": {},
   "source": [
    "질문 말고 평문으로 해보자"
   ]
  },
  {
   "cell_type": "code",
   "execution_count": 43,
   "metadata": {},
   "outputs": [
    {
     "name": "stdout",
     "output_type": "stream",
     "text": [
      "all scores : \n",
      "65 56 58 63 58 55 59 53 60 58 52 54 \n",
      "[('Speaker 1 is passionate rock climber.', 65.91217041015625),\n",
      " ('Speaker 1 has a fear of deep water.', 63.267154693603516),\n",
      " ('Speaker 2 is studying marine biology.', 60.49422836303711)]\n"
     ]
    }
   ],
   "source": [
    "question = \"I've always admired people who challenge themselves physically, especially in nature.\"\n",
    "personalist = [\"Speaker 1 is passionate rock climber.\",\n",
    "\"Speaker 1 grew up on a farm in the countryside.\",\n",
    "\"Speaker 1 is a trained classical pianist.\",\n",
    "\"Speaker 1 has a fear of deep water.\",\n",
    "\"Speaker 1 is a professional photographer.\",\n",
    "\"Speaker 1 volunteered in a wildlife sanctuary last summer.\",\n",
    "\"Speaker 2 is a professional dancer specializing in contemporary dance.\",\n",
    "\"Speaker 2 has lived in three different countries.\",\n",
    "\"Speaker 2 is studying marine biology.\",\n",
    "\"Speaker 2 loves mystery novels and has a collection.\",\n",
    "\"Speaker 2 has a twin sibling.\",\n",
    "\"Speaker 2 is allergic to peanuts.\",              \n",
    "]\n",
    "pprint(rt.retrieve_top_summaries( # here is using encodings.?!@\n",
    "                question, personalist, None, topk=3\n",
    "            ))"
   ]
  },
  {
   "cell_type": "code",
   "execution_count": 44,
   "metadata": {},
   "outputs": [
    {
     "name": "stdout",
     "output_type": "stream",
     "text": [
      "all scores : \n",
      "57 57 57 51 60 57 58 54 58 57 53 50 \n",
      "[('Speaker 1 is a professional photographer.', 60.550079345703125),\n",
      " ('Speaker 2 is studying marine biology.', 58.92174530029297),\n",
      " ('Speaker 2 is a professional dancer specializing in contemporary dance.',\n",
      "  58.4135856628418)]\n"
     ]
    }
   ],
   "source": [
    "question = \"Capturing moments can be so powerful. I've always believed that some people can see the world in a different light.\"\n",
    "personalist = [\"Speaker 1 is passionate rock climber.\",\n",
    "\"Speaker 1 grew up on a farm in the countryside.\",\n",
    "\"Speaker 1 is a trained classical pianist.\",\n",
    "\"Speaker 1 has a fear of deep water.\",\n",
    "\"Speaker 1 is a professional photographer.\",\n",
    "\"Speaker 1 volunteered in a wildlife sanctuary last summer.\",\n",
    "\"Speaker 2 is a professional dancer specializing in contemporary dance.\",\n",
    "\"Speaker 2 has lived in three different countries.\",\n",
    "\"Speaker 2 is studying marine biology.\",\n",
    "\"Speaker 2 loves mystery novels and has a collection.\",\n",
    "\"Speaker 2 has a twin sibling.\",\n",
    "\"Speaker 2 is allergic to peanuts.\",              \n",
    "]\n",
    "pprint(rt.retrieve_top_summaries( # here is using encodings.?!@\n",
    "                question, personalist, None, topk=3\n",
    "            ))"
   ]
  },
  {
   "cell_type": "code",
   "execution_count": 45,
   "metadata": {},
   "outputs": [
    {
     "name": "stdout",
     "output_type": "stream",
     "text": [
      "all scores : \n",
      "57 56 59 52 56 56 63 56 58 54 53 51 \n",
      "[('Speaker 2 is a professional dancer specializing in contemporary dance.',\n",
      "  63.07608413696289),\n",
      " ('Speaker 1 is a trained classical pianist.', 59.283756256103516),\n",
      " ('Speaker 2 is studying marine biology.', 58.70583724975586)]\n"
     ]
    }
   ],
   "source": [
    "question = \"There's something about the way you move; it reminds me of an art performance.\"\n",
    "personalist = [\"Speaker 1 is passionate rock climber.\",\n",
    "\"Speaker 1 grew up on a farm in the countryside.\",\n",
    "\"Speaker 1 is a trained classical pianist.\",\n",
    "\"Speaker 1 has a fear of deep water.\",\n",
    "\"Speaker 1 is a professional photographer.\",\n",
    "\"Speaker 1 volunteered in a wildlife sanctuary last summer.\",\n",
    "\"Speaker 2 is a professional dancer specializing in contemporary dance.\",\n",
    "\"Speaker 2 has lived in three different countries.\",\n",
    "\"Speaker 2 is studying marine biology.\",\n",
    "\"Speaker 2 loves mystery novels and has a collection.\",\n",
    "\"Speaker 2 has a twin sibling.\",\n",
    "\"Speaker 2 is allergic to peanuts.\",              \n",
    "]\n",
    "pprint(rt.retrieve_top_summaries( # here is using encodings.?!@\n",
    "                question, personalist, None, topk=3\n",
    "            ))"
   ]
  },
  {
   "cell_type": "code",
   "execution_count": 46,
   "metadata": {},
   "outputs": [
    {
     "name": "stdout",
     "output_type": "stream",
     "text": [
      "all scores : \n",
      "53 55 56 48 52 52 53 58 56 57 55 50 \n",
      "[('Speaker 2 has lived in three different countries.', 58.41655349731445),\n",
      " ('Speaker 2 loves mystery novels and has a collection.', 57.47710037231445),\n",
      " ('Speaker 1 is a trained classical pianist.', 56.0594367980957)]\n"
     ]
    }
   ],
   "source": [
    "question = \"Your worldview seems so expansive, like you've absorbed bits from various cultures.\"\n",
    "personalist = [\"Speaker 1 is passionate rock climber.\",\n",
    "\"Speaker 1 grew up on a farm in the countryside.\",\n",
    "\"Speaker 1 is a trained classical pianist.\",\n",
    "\"Speaker 1 has a fear of deep water.\",\n",
    "\"Speaker 1 is a professional photographer.\",\n",
    "\"Speaker 1 volunteered in a wildlife sanctuary last summer.\",\n",
    "\"Speaker 2 is a professional dancer specializing in contemporary dance.\",\n",
    "\"Speaker 2 has lived in three different countries.\",\n",
    "\"Speaker 2 is studying marine biology.\",\n",
    "\"Speaker 2 loves mystery novels and has a collection.\",\n",
    "\"Speaker 2 has a twin sibling.\",\n",
    "\"Speaker 2 is allergic to peanuts.\",              \n",
    "]\n",
    "pprint(rt.retrieve_top_summaries( # here is using encodings.?!@\n",
    "                question, personalist, None, topk=3\n",
    "            ))"
   ]
  },
  {
   "cell_type": "code",
   "execution_count": null,
   "metadata": {},
   "outputs": [],
   "source": []
  },
  {
   "cell_type": "code",
   "execution_count": null,
   "metadata": {},
   "outputs": [],
   "source": []
  },
  {
   "cell_type": "code",
   "execution_count": null,
   "metadata": {},
   "outputs": [],
   "source": []
  }
 ],
 "metadata": {
  "kernelspec": {
   "display_name": "dprvenv",
   "language": "python",
   "name": "dprvenv"
  },
  "language_info": {
   "codemirror_mode": {
    "name": "ipython",
    "version": 3
   },
   "file_extension": ".py",
   "mimetype": "text/x-python",
   "name": "python",
   "nbconvert_exporter": "python",
   "pygments_lexer": "ipython3",
   "version": "3.7.6"
  }
 },
 "nbformat": 4,
 "nbformat_minor": 4
}
