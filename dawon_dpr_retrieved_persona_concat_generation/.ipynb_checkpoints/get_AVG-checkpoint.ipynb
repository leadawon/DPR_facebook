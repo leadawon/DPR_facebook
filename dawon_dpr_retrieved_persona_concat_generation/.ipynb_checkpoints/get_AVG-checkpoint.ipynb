{
 "cells": [
  {
   "cell_type": "code",
   "execution_count": 24,
   "metadata": {},
   "outputs": [],
   "source": [
    "\n",
    "\n",
    "import json\n",
    "\n",
    "\n",
    "import numpy as np\n",
    "\n",
    "from tqdm import tqdm\n",
    "\n",
    "import re\n",
    "\n",
    "from pprint import pprint"
   ]
  },
  {
   "cell_type": "code",
   "execution_count": 29,
   "metadata": {},
   "outputs": [],
   "source": [
    "score_sum = 0\n",
    "cnt = 0\n",
    "with open(\"./bigdata/utterance_persona_dpr.jsonl\") as f:\n",
    "    for json_line in f:\n",
    "        json_file = json.loads(json_line)\n",
    "        dic_list=json_file[\"extracted_persona_list\"]\n",
    "        for i,dic in enumerate(dic_list):\n",
    "            score_sum += dic[\"3persona\"][0][1] + dic[\"3persona\"][1][1] + dic[\"3persona\"][2][1]\n",
    "            cnt += 1;"
   ]
  },
  {
   "cell_type": "code",
   "execution_count": 30,
   "metadata": {},
   "outputs": [],
   "source": [
    "print(score_sum / cnt)"
   ]
  },
  {
   "cell_type": "code",
   "execution_count": null,
   "metadata": {},
   "outputs": [],
   "source": []
  }
 ],
 "metadata": {
  "kernelspec": {
   "display_name": "bartvenv",
   "language": "python",
   "name": "bartvenv"
  },
  "language_info": {
   "codemirror_mode": {
    "name": "ipython",
    "version": 3
   },
   "file_extension": ".py",
   "mimetype": "text/x-python",
   "name": "python",
   "nbconvert_exporter": "python",
   "pygments_lexer": "ipython3",
   "version": "3.7.6"
  }
 },
 "nbformat": 4,
 "nbformat_minor": 4
}
