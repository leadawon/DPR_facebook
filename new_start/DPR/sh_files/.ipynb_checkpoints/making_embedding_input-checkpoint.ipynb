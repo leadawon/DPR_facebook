{
 "cells": [
  {
   "cell_type": "code",
   "execution_count": 1,
   "metadata": {},
   "outputs": [],
   "source": [
    "import json\n",
    "\n",
    "new_persona_list_1 = []\n",
    "new_persona_list_2 = []\n",
    "dialog_list = []\n",
    "with open(\"./persona_data/extracted_persona_session3_v1.jsonl\", \"r\") as dialogs_iter:\n",
    "    dialogs = list(dialogs_iter)\n",
    "    i = 0\n",
    "    dialog = dialogs[i]\n",
    "    dic = json.loads(dialog)\n",
    "    dialog_list = dic[\"current\"]\n",
    "    old_persona_list = dic[\"session1_persona\"] + dic[\"session2_persona\"]\n",
    "    \n",
    "\n",
    "    for i,v in enumerate(old_persona_list):\n",
    "        if(v.split()[1]==\"1\"):\n",
    "            new_persona_list_1.append(\"Speaker \"+\" \".join(v.split()[2:]))\n",
    "        elif(v.split()[1]==\"2\"):\n",
    "            new_persona_list_2.append(\"Speaker \"+\" \".join(v.split()[2:]))\n",
    "        else:\n",
    "            print(v.split()[1])\n",
    "            new_persona_list_2.append(\"Speaker \"+\" \".join(v.split()[2:]))\n",
    "                \n",
    "#     for num,dialog in enumerate(dialogs):\n",
    "\n",
    "#         print(f\"now {num} dialog\")\n",
    "#         dic = json.loads(dialog)\n",
    "#         dialog_list = dic[\"current\"]\n",
    "#         old_persona_list = dic[\"session1_persona\"] + dic[\"session2_persona\"]\n",
    "        \n",
    "        \n",
    "        \n",
    "#         with open(\"./bigdata/persona_output.jsonl\",\"a\") as fout:\n",
    "#             resultlist = []\n",
    "#             for i,v in enumerate(dialog_list):\n",
    "                \n",
    "#                 question = \" \".join(v.split()[2:])\n",
    "#                 if(v.split()[1]==\"1:\"):\n",
    "#                     personalist = new_persona_list_2\n",
    "#                 elif(v.split()[1]==\"2:\"):\n",
    "#                     personalist = new_persona_list_1\n",
    "#                 else:\n",
    "#                     print(v.split()[1])\n",
    "#                     personalist = new_persona_list_1\n",
    "#                 resultlist.append(rt.retrieve_top_summaries(question, personalist, None, topk=3))\n",
    "#             epl_list = []\n",
    "#             for d,r in zip(dialog_list,resultlist):\n",
    "#                 epl_list.append({\"utterance\":d, \"3persona\":r})\n",
    "#             #newdic = {\"current\" : dialog_list, \"persona_list\": persona_list, \"extracted_persona_list\":epl_list}\n",
    "#             newdic = {\"persona_list_1\": new_persona_list_1,\"persona_list_2\": new_persona_list_2, \"extracted_persona_list\":epl_list}\n",
    "#             fout.write(json.dumps(newdic, ensure_ascii=False) + \"\\n\")"
   ]
  },
  {
   "cell_type": "code",
   "execution_count": 2,
   "metadata": {},
   "outputs": [
    {
     "name": "stdout",
     "output_type": "stream",
     "text": [
      "0###\n",
      "1###\n",
      "2###\n",
      "3###\n",
      "4###\n",
      "5###\n",
      "6###\n",
      "7###\n",
      "8###\n",
      "9###\n",
      "10###\n"
     ]
    }
   ],
   "source": [
    "import pandas as pd\n",
    "\n",
    "# 샘플 데이터셋 로드\n",
    "sample_dataset = pd.read_csv(\"sample.tsv\", delimiter='\\t')\n",
    "# 필요한 행의 수\n",
    "required_rows = len(new_persona_list_2)#speaker 1 일때 2일때 구분\n",
    "# 기존 데이터셋에서 필요한 개수만큼 행 선택\n",
    "reduced_dataset = sample_dataset.head(required_rows)\n",
    "# 반복문을 통해 text와 title 컬럼 수정\n",
    "for index, row in reduced_dataset.iterrows():\n",
    "    # 특정 조건에 따라 값을 변경하거나, 원하는 로직으로 수정\n",
    "    print(str(index) + \"###\")\n",
    "    reduced_dataset.at[index, 'id'] = str(index+1)\n",
    "    reduced_dataset.at[index, 'text'] = new_persona_list_2[index]#speaker 1 일때 2일때 구분\n",
    "    reduced_dataset.at[index, 'title'] = f\"dawon_title{index}\"\n",
    "\n",
    "# 변경된 데이터셋 저장\n",
    "reduced_dataset.to_csv(\"./downloads/data/wikipedia_split/psgs_w100.tsv\", sep='\\t', index=False)"
   ]
  },
  {
   "cell_type": "code",
   "execution_count": 3,
   "metadata": {},
   "outputs": [],
   "source": [
    "import pandas as pd\n",
    "\n",
    "data = []\n",
    "\n",
    "for idx,ut in enumerate(dialog_list):\n",
    "    if idx%2==0: # 이거 speaker 1일때 2일때 구분용\n",
    "        data.append([ut,f\"['dawon_answer{idx}']\"])\n",
    "\n",
    "# DataFrame 생성\n",
    "df = pd.DataFrame(data)\n",
    "\n",
    "# TSV 파일로 저장\n",
    "df.to_csv(\"./downloads/data/retriever/qas/nq-test.csv\", sep='\\t', index=False, header=False)"
   ]
  },
  {
   "cell_type": "code",
   "execution_count": null,
   "metadata": {},
   "outputs": [],
   "source": []
  }
 ],
 "metadata": {
  "kernelspec": {
   "display_name": "huggvenv",
   "language": "python",
   "name": "huggvenv"
  },
  "language_info": {
   "codemirror_mode": {
    "name": "ipython",
    "version": 3
   },
   "file_extension": ".py",
   "mimetype": "text/x-python",
   "name": "python",
   "nbconvert_exporter": "python",
   "pygments_lexer": "ipython3",
   "version": "3.7.6"
  }
 },
 "nbformat": 4,
 "nbformat_minor": 4
}
