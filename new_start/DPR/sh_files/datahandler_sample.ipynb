{
 "cells": [
  {
   "cell_type": "code",
   "execution_count": 9,
   "metadata": {},
   "outputs": [
    {
     "name": "stdout",
     "output_type": "stream",
     "text": [
      "dict_keys(['dataset', 'question', 'answers', 'positive_ctxs', 'negative_ctxs', 'hard_negative_ctxs'])\n"
     ]
    }
   ],
   "source": [
    "import json\n",
    "\n",
    "# 파일 열기\n",
    "with open('./downloads/data/retriever/nq-dev.json', 'r') as infile, open(\"./sample.json\",\"w\") as outfile:\n",
    "    # JSON 내용을 Python 리스트로 로드\n",
    "    data = json.load(infile)\n",
    "\n",
    "# 이제 'data' 변수는 Python 리스트입니다.\n",
    "# 예를 들어, 리스트의 첫 번째 항목에 접근하려면 data[0]을 사용합니다.\n",
    "    print(data[0].keys())\n",
    "    \n",
    "    small_data = data[10:12]\n",
    "    \n",
    "    for i in range(len(small_data)):\n",
    "        small_data[i][\"positive_ctxs\"] = small_data[i][\"positive_ctxs\"][:2]\n",
    "        small_data[i][\"negative_ctxs\"] = small_data[i][\"negative_ctxs\"][:2]\n",
    "        small_data[i][\"hard_negative_ctxs\"] = small_data[i][\"hard_negative_ctxs\"][:2]\n",
    "    \n",
    "    json.dump(small_data,outfile,ensure_ascii=False)"
   ]
  },
  {
   "cell_type": "code",
   "execution_count": null,
   "metadata": {},
   "outputs": [],
   "source": []
  }
 ],
 "metadata": {
  "kernelspec": {
   "display_name": "huggvenv",
   "language": "python",
   "name": "huggvenv"
  },
  "language_info": {
   "codemirror_mode": {
    "name": "ipython",
    "version": 3
   },
   "file_extension": ".py",
   "mimetype": "text/x-python",
   "name": "python",
   "nbconvert_exporter": "python",
   "pygments_lexer": "ipython3",
   "version": "3.7.6"
  }
 },
 "nbformat": 4,
 "nbformat_minor": 4
}
