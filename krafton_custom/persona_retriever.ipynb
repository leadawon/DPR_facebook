{
 "cells": [
  {
   "cell_type": "code",
   "execution_count": 55,
   "metadata": {},
   "outputs": [],
   "source": [
    "import torch\n",
    "import numpy as np\n",
    "\n",
    "from transformers import AutoTokenizer, DPRQuestionEncoder, DPRContextEncoder\n",
    "from typing import List\n",
    "\n",
    "from pprint import pprint\n",
    "\n",
    "class BiEncoderRetriever:\n",
    "    def __init__(self) -> None:\n",
    "        self.device = \"cuda:0\" if torch.cuda.is_available() else \"cpu\"\n",
    "        self.tokenizer = AutoTokenizer.from_pretrained(\"sivasankalpp/dpr-multidoc2dial-structure-question-encoder\")\n",
    "        self.question_encoder = DPRQuestionEncoder.from_pretrained(\"sivasankalpp/dpr-multidoc2dial-structure-question-encoder\").to(self.device)\n",
    "        self.ctxt_encoder = DPRContextEncoder.from_pretrained(\"sivasankalpp/dpr-multidoc2dial-structure-ctx-encoder\").to(self.device)\n",
    "\n",
    "    def encode_summaries(self, summaries: List[str]):\n",
    "        input_dict = self.tokenizer(summaries, padding='max_length', max_length=128, truncation=True, return_tensors=\"pt\").to(self.device)\n",
    "        del input_dict[\"token_type_ids\"]\n",
    "        return self.ctxt_encoder(**input_dict)['pooler_output']\n",
    "\n",
    "    def encode_question(self, question: str):\n",
    "        input_dict = self.tokenizer(question, padding='max_length', max_length=32, truncation=True, return_tensors=\"pt\").to(self.device)\n",
    "        del input_dict[\"token_type_ids\"]\n",
    "        return self.question_encoder(**input_dict)['pooler_output']\n",
    "\n",
    "    def retrieve_top_summaries(self, question: str, summaries: List[str], encoded_summaries: np.ndarray = None, topk: int = 5):\n",
    "        encoded_question = self.encode_question(question)\n",
    "        if encoded_summaries is None:\n",
    "            encoded_summaries = self.encode_summaries(summaries)\n",
    "        else:\n",
    "            encoded_summaries = torch.from_numpy(encoded_summaries).to(self.device)\n",
    "\n",
    "        scores = torch.mm(encoded_question, encoded_summaries.T)\n",
    "        # print(encoded_question.shape)\n",
    "        # print(encoded_summaries.T.shape)\n",
    "        if topk >= len(summaries):\n",
    "            return summaries\n",
    "        top_k = torch.topk(scores, topk).indices.squeeze()\n",
    "        \n",
    "        print(\"all scores : \")\n",
    "        for i,v in enumerate(scores[0]):\n",
    "            print(int(v.item()),end=\" \")\n",
    "        print()\n",
    "        \n",
    "        #return [(summaries[i],scores[0][i].item()) for i in top_k]\n",
    "        return [summaries[i] for i in top_k]"
   ]
  },
  {
   "cell_type": "code",
   "execution_count": 56,
   "metadata": {},
   "outputs": [],
   "source": [
    "rt = BiEncoderRetriever()"
   ]
  },
  {
   "cell_type": "code",
   "execution_count": 81,
   "metadata": {},
   "outputs": [
    {
     "name": "stdout",
     "output_type": "stream",
     "text": [
      "DPRContextEncoder(\n",
      "  (ctx_encoder): DPREncoder(\n",
      "    (bert_model): BertModel(\n",
      "      (embeddings): BertEmbeddings(\n",
      "        (word_embeddings): Embedding(30522, 768, padding_idx=0)\n",
      "        (position_embeddings): Embedding(512, 768)\n",
      "        (token_type_embeddings): Embedding(2, 768)\n",
      "        (LayerNorm): LayerNorm((768,), eps=1e-12, elementwise_affine=True)\n",
      "        (dropout): Dropout(p=0.1, inplace=False)\n",
      "      )\n",
      "      (encoder): BertEncoder(\n",
      "        (layer): ModuleList(\n",
      "          (0): BertLayer(\n",
      "            (attention): BertAttention(\n",
      "              (self): BertSelfAttention(\n",
      "                (query): Linear(in_features=768, out_features=768, bias=True)\n",
      "                (key): Linear(in_features=768, out_features=768, bias=True)\n",
      "                (value): Linear(in_features=768, out_features=768, bias=True)\n",
      "                (dropout): Dropout(p=0.1, inplace=False)\n",
      "              )\n",
      "              (output): BertSelfOutput(\n",
      "                (dense): Linear(in_features=768, out_features=768, bias=True)\n",
      "                (LayerNorm): LayerNorm((768,), eps=1e-12, elementwise_affine=True)\n",
      "                (dropout): Dropout(p=0.1, inplace=False)\n",
      "              )\n",
      "            )\n",
      "            (intermediate): BertIntermediate(\n",
      "              (dense): Linear(in_features=768, out_features=3072, bias=True)\n",
      "              (intermediate_act_fn): GELUActivation()\n",
      "            )\n",
      "            (output): BertOutput(\n",
      "              (dense): Linear(in_features=3072, out_features=768, bias=True)\n",
      "              (LayerNorm): LayerNorm((768,), eps=1e-12, elementwise_affine=True)\n",
      "              (dropout): Dropout(p=0.1, inplace=False)\n",
      "            )\n",
      "          )\n",
      "          (1): BertLayer(\n",
      "            (attention): BertAttention(\n",
      "              (self): BertSelfAttention(\n",
      "                (query): Linear(in_features=768, out_features=768, bias=True)\n",
      "                (key): Linear(in_features=768, out_features=768, bias=True)\n",
      "                (value): Linear(in_features=768, out_features=768, bias=True)\n",
      "                (dropout): Dropout(p=0.1, inplace=False)\n",
      "              )\n",
      "              (output): BertSelfOutput(\n",
      "                (dense): Linear(in_features=768, out_features=768, bias=True)\n",
      "                (LayerNorm): LayerNorm((768,), eps=1e-12, elementwise_affine=True)\n",
      "                (dropout): Dropout(p=0.1, inplace=False)\n",
      "              )\n",
      "            )\n",
      "            (intermediate): BertIntermediate(\n",
      "              (dense): Linear(in_features=768, out_features=3072, bias=True)\n",
      "              (intermediate_act_fn): GELUActivation()\n",
      "            )\n",
      "            (output): BertOutput(\n",
      "              (dense): Linear(in_features=3072, out_features=768, bias=True)\n",
      "              (LayerNorm): LayerNorm((768,), eps=1e-12, elementwise_affine=True)\n",
      "              (dropout): Dropout(p=0.1, inplace=False)\n",
      "            )\n",
      "          )\n",
      "          (2): BertLayer(\n",
      "            (attention): BertAttention(\n",
      "              (self): BertSelfAttention(\n",
      "                (query): Linear(in_features=768, out_features=768, bias=True)\n",
      "                (key): Linear(in_features=768, out_features=768, bias=True)\n",
      "                (value): Linear(in_features=768, out_features=768, bias=True)\n",
      "                (dropout): Dropout(p=0.1, inplace=False)\n",
      "              )\n",
      "              (output): BertSelfOutput(\n",
      "                (dense): Linear(in_features=768, out_features=768, bias=True)\n",
      "                (LayerNorm): LayerNorm((768,), eps=1e-12, elementwise_affine=True)\n",
      "                (dropout): Dropout(p=0.1, inplace=False)\n",
      "              )\n",
      "            )\n",
      "            (intermediate): BertIntermediate(\n",
      "              (dense): Linear(in_features=768, out_features=3072, bias=True)\n",
      "              (intermediate_act_fn): GELUActivation()\n",
      "            )\n",
      "            (output): BertOutput(\n",
      "              (dense): Linear(in_features=3072, out_features=768, bias=True)\n",
      "              (LayerNorm): LayerNorm((768,), eps=1e-12, elementwise_affine=True)\n",
      "              (dropout): Dropout(p=0.1, inplace=False)\n",
      "            )\n",
      "          )\n",
      "          (3): BertLayer(\n",
      "            (attention): BertAttention(\n",
      "              (self): BertSelfAttention(\n",
      "                (query): Linear(in_features=768, out_features=768, bias=True)\n",
      "                (key): Linear(in_features=768, out_features=768, bias=True)\n",
      "                (value): Linear(in_features=768, out_features=768, bias=True)\n",
      "                (dropout): Dropout(p=0.1, inplace=False)\n",
      "              )\n",
      "              (output): BertSelfOutput(\n",
      "                (dense): Linear(in_features=768, out_features=768, bias=True)\n",
      "                (LayerNorm): LayerNorm((768,), eps=1e-12, elementwise_affine=True)\n",
      "                (dropout): Dropout(p=0.1, inplace=False)\n",
      "              )\n",
      "            )\n",
      "            (intermediate): BertIntermediate(\n",
      "              (dense): Linear(in_features=768, out_features=3072, bias=True)\n",
      "              (intermediate_act_fn): GELUActivation()\n",
      "            )\n",
      "            (output): BertOutput(\n",
      "              (dense): Linear(in_features=3072, out_features=768, bias=True)\n",
      "              (LayerNorm): LayerNorm((768,), eps=1e-12, elementwise_affine=True)\n",
      "              (dropout): Dropout(p=0.1, inplace=False)\n",
      "            )\n",
      "          )\n",
      "          (4): BertLayer(\n",
      "            (attention): BertAttention(\n",
      "              (self): BertSelfAttention(\n",
      "                (query): Linear(in_features=768, out_features=768, bias=True)\n",
      "                (key): Linear(in_features=768, out_features=768, bias=True)\n",
      "                (value): Linear(in_features=768, out_features=768, bias=True)\n",
      "                (dropout): Dropout(p=0.1, inplace=False)\n",
      "              )\n",
      "              (output): BertSelfOutput(\n",
      "                (dense): Linear(in_features=768, out_features=768, bias=True)\n",
      "                (LayerNorm): LayerNorm((768,), eps=1e-12, elementwise_affine=True)\n",
      "                (dropout): Dropout(p=0.1, inplace=False)\n",
      "              )\n",
      "            )\n",
      "            (intermediate): BertIntermediate(\n",
      "              (dense): Linear(in_features=768, out_features=3072, bias=True)\n",
      "              (intermediate_act_fn): GELUActivation()\n",
      "            )\n",
      "            (output): BertOutput(\n",
      "              (dense): Linear(in_features=3072, out_features=768, bias=True)\n",
      "              (LayerNorm): LayerNorm((768,), eps=1e-12, elementwise_affine=True)\n",
      "              (dropout): Dropout(p=0.1, inplace=False)\n",
      "            )\n",
      "          )\n",
      "          (5): BertLayer(\n",
      "            (attention): BertAttention(\n",
      "              (self): BertSelfAttention(\n",
      "                (query): Linear(in_features=768, out_features=768, bias=True)\n",
      "                (key): Linear(in_features=768, out_features=768, bias=True)\n",
      "                (value): Linear(in_features=768, out_features=768, bias=True)\n",
      "                (dropout): Dropout(p=0.1, inplace=False)\n",
      "              )\n",
      "              (output): BertSelfOutput(\n",
      "                (dense): Linear(in_features=768, out_features=768, bias=True)\n",
      "                (LayerNorm): LayerNorm((768,), eps=1e-12, elementwise_affine=True)\n",
      "                (dropout): Dropout(p=0.1, inplace=False)\n",
      "              )\n",
      "            )\n",
      "            (intermediate): BertIntermediate(\n",
      "              (dense): Linear(in_features=768, out_features=3072, bias=True)\n",
      "              (intermediate_act_fn): GELUActivation()\n",
      "            )\n",
      "            (output): BertOutput(\n",
      "              (dense): Linear(in_features=3072, out_features=768, bias=True)\n",
      "              (LayerNorm): LayerNorm((768,), eps=1e-12, elementwise_affine=True)\n",
      "              (dropout): Dropout(p=0.1, inplace=False)\n",
      "            )\n",
      "          )\n",
      "          (6): BertLayer(\n",
      "            (attention): BertAttention(\n",
      "              (self): BertSelfAttention(\n",
      "                (query): Linear(in_features=768, out_features=768, bias=True)\n",
      "                (key): Linear(in_features=768, out_features=768, bias=True)\n",
      "                (value): Linear(in_features=768, out_features=768, bias=True)\n",
      "                (dropout): Dropout(p=0.1, inplace=False)\n",
      "              )\n",
      "              (output): BertSelfOutput(\n",
      "                (dense): Linear(in_features=768, out_features=768, bias=True)\n",
      "                (LayerNorm): LayerNorm((768,), eps=1e-12, elementwise_affine=True)\n",
      "                (dropout): Dropout(p=0.1, inplace=False)\n",
      "              )\n",
      "            )\n",
      "            (intermediate): BertIntermediate(\n",
      "              (dense): Linear(in_features=768, out_features=3072, bias=True)\n",
      "              (intermediate_act_fn): GELUActivation()\n",
      "            )\n",
      "            (output): BertOutput(\n",
      "              (dense): Linear(in_features=3072, out_features=768, bias=True)\n",
      "              (LayerNorm): LayerNorm((768,), eps=1e-12, elementwise_affine=True)\n",
      "              (dropout): Dropout(p=0.1, inplace=False)\n",
      "            )\n",
      "          )\n",
      "          (7): BertLayer(\n",
      "            (attention): BertAttention(\n",
      "              (self): BertSelfAttention(\n",
      "                (query): Linear(in_features=768, out_features=768, bias=True)\n",
      "                (key): Linear(in_features=768, out_features=768, bias=True)\n",
      "                (value): Linear(in_features=768, out_features=768, bias=True)\n",
      "                (dropout): Dropout(p=0.1, inplace=False)\n",
      "              )\n",
      "              (output): BertSelfOutput(\n",
      "                (dense): Linear(in_features=768, out_features=768, bias=True)\n",
      "                (LayerNorm): LayerNorm((768,), eps=1e-12, elementwise_affine=True)\n",
      "                (dropout): Dropout(p=0.1, inplace=False)\n",
      "              )\n",
      "            )\n",
      "            (intermediate): BertIntermediate(\n",
      "              (dense): Linear(in_features=768, out_features=3072, bias=True)\n",
      "              (intermediate_act_fn): GELUActivation()\n",
      "            )\n",
      "            (output): BertOutput(\n",
      "              (dense): Linear(in_features=3072, out_features=768, bias=True)\n",
      "              (LayerNorm): LayerNorm((768,), eps=1e-12, elementwise_affine=True)\n",
      "              (dropout): Dropout(p=0.1, inplace=False)\n",
      "            )\n",
      "          )\n",
      "          (8): BertLayer(\n",
      "            (attention): BertAttention(\n",
      "              (self): BertSelfAttention(\n",
      "                (query): Linear(in_features=768, out_features=768, bias=True)\n",
      "                (key): Linear(in_features=768, out_features=768, bias=True)\n",
      "                (value): Linear(in_features=768, out_features=768, bias=True)\n",
      "                (dropout): Dropout(p=0.1, inplace=False)\n",
      "              )\n",
      "              (output): BertSelfOutput(\n",
      "                (dense): Linear(in_features=768, out_features=768, bias=True)\n",
      "                (LayerNorm): LayerNorm((768,), eps=1e-12, elementwise_affine=True)\n",
      "                (dropout): Dropout(p=0.1, inplace=False)\n",
      "              )\n",
      "            )\n",
      "            (intermediate): BertIntermediate(\n",
      "              (dense): Linear(in_features=768, out_features=3072, bias=True)\n",
      "              (intermediate_act_fn): GELUActivation()\n",
      "            )\n",
      "            (output): BertOutput(\n",
      "              (dense): Linear(in_features=3072, out_features=768, bias=True)\n",
      "              (LayerNorm): LayerNorm((768,), eps=1e-12, elementwise_affine=True)\n",
      "              (dropout): Dropout(p=0.1, inplace=False)\n",
      "            )\n",
      "          )\n",
      "          (9): BertLayer(\n",
      "            (attention): BertAttention(\n",
      "              (self): BertSelfAttention(\n",
      "                (query): Linear(in_features=768, out_features=768, bias=True)\n",
      "                (key): Linear(in_features=768, out_features=768, bias=True)\n",
      "                (value): Linear(in_features=768, out_features=768, bias=True)\n",
      "                (dropout): Dropout(p=0.1, inplace=False)\n",
      "              )\n",
      "              (output): BertSelfOutput(\n",
      "                (dense): Linear(in_features=768, out_features=768, bias=True)\n",
      "                (LayerNorm): LayerNorm((768,), eps=1e-12, elementwise_affine=True)\n",
      "                (dropout): Dropout(p=0.1, inplace=False)\n",
      "              )\n",
      "            )\n",
      "            (intermediate): BertIntermediate(\n",
      "              (dense): Linear(in_features=768, out_features=3072, bias=True)\n",
      "              (intermediate_act_fn): GELUActivation()\n",
      "            )\n",
      "            (output): BertOutput(\n",
      "              (dense): Linear(in_features=3072, out_features=768, bias=True)\n",
      "              (LayerNorm): LayerNorm((768,), eps=1e-12, elementwise_affine=True)\n",
      "              (dropout): Dropout(p=0.1, inplace=False)\n",
      "            )\n",
      "          )\n",
      "          (10): BertLayer(\n",
      "            (attention): BertAttention(\n",
      "              (self): BertSelfAttention(\n",
      "                (query): Linear(in_features=768, out_features=768, bias=True)\n",
      "                (key): Linear(in_features=768, out_features=768, bias=True)\n",
      "                (value): Linear(in_features=768, out_features=768, bias=True)\n",
      "                (dropout): Dropout(p=0.1, inplace=False)\n",
      "              )\n",
      "              (output): BertSelfOutput(\n",
      "                (dense): Linear(in_features=768, out_features=768, bias=True)\n",
      "                (LayerNorm): LayerNorm((768,), eps=1e-12, elementwise_affine=True)\n",
      "                (dropout): Dropout(p=0.1, inplace=False)\n",
      "              )\n",
      "            )\n",
      "            (intermediate): BertIntermediate(\n",
      "              (dense): Linear(in_features=768, out_features=3072, bias=True)\n",
      "              (intermediate_act_fn): GELUActivation()\n",
      "            )\n",
      "            (output): BertOutput(\n",
      "              (dense): Linear(in_features=3072, out_features=768, bias=True)\n",
      "              (LayerNorm): LayerNorm((768,), eps=1e-12, elementwise_affine=True)\n",
      "              (dropout): Dropout(p=0.1, inplace=False)\n",
      "            )\n",
      "          )\n",
      "          (11): BertLayer(\n",
      "            (attention): BertAttention(\n",
      "              (self): BertSelfAttention(\n",
      "                (query): Linear(in_features=768, out_features=768, bias=True)\n",
      "                (key): Linear(in_features=768, out_features=768, bias=True)\n",
      "                (value): Linear(in_features=768, out_features=768, bias=True)\n",
      "                (dropout): Dropout(p=0.1, inplace=False)\n",
      "              )\n",
      "              (output): BertSelfOutput(\n",
      "                (dense): Linear(in_features=768, out_features=768, bias=True)\n",
      "                (LayerNorm): LayerNorm((768,), eps=1e-12, elementwise_affine=True)\n",
      "                (dropout): Dropout(p=0.1, inplace=False)\n",
      "              )\n",
      "            )\n",
      "            (intermediate): BertIntermediate(\n",
      "              (dense): Linear(in_features=768, out_features=3072, bias=True)\n",
      "              (intermediate_act_fn): GELUActivation()\n",
      "            )\n",
      "            (output): BertOutput(\n",
      "              (dense): Linear(in_features=3072, out_features=768, bias=True)\n",
      "              (LayerNorm): LayerNorm((768,), eps=1e-12, elementwise_affine=True)\n",
      "              (dropout): Dropout(p=0.1, inplace=False)\n",
      "            )\n",
      "          )\n",
      "        )\n",
      "      )\n",
      "    )\n",
      "  )\n",
      ")\n"
     ]
    }
   ],
   "source": [
    "print(rt.ctxt_encoder)"
   ]
  },
  {
   "cell_type": "code",
   "execution_count": 57,
   "metadata": {},
   "outputs": [
    {
     "name": "stdout",
     "output_type": "stream",
     "text": [
      "all scores : \n",
      "72 72 73 74 71 73 73 71 64 69 66 69 47 \n",
      "['Sarah is studying to be a computer programmer.',\n",
      " 'Sarah is now looking for a new job.',\n",
      " \"Sarah's mother is very traditional while Sarah prefers to be more free \"\n",
      " 'spirited.',\n",
      " \"Sarah is a swim coach at Sarah's local pool.\",\n",
      " 'Sarah currently lives in Canada.']\n"
     ]
    }
   ],
   "source": [
    "question = \"What does Sarah do for a living\"\n",
    "personalist = ['Sarah is 24 years old.', \n",
    "               'Sarah currently lives in Canada.', \n",
    "               \"Sarah is a swim coach at Sarah's local pool.\", \n",
    "               'Sarah is studying to be a computer programmer.', \n",
    "               'Sarah is also a graduate student.', \n",
    "               'Sarah is now looking for a new job.', \n",
    "               \"Sarah's mother is very traditional while Sarah prefers to be more free spirited.\", \n",
    "               \"Sarah's family and Sarah are from India.\", \n",
    "               \"Sarah's favorite music genre is death metal.\", \n",
    "               'Sarah is a famous twitch streamer.', \n",
    "               'Sarah likes watching war documentaries.', \n",
    "               \"Sarah's favorite food is mexican food.\",\n",
    "               \"not related\"\n",
    "              ]\n",
    "pprint(rt.retrieve_top_summaries( # here is using encodings.?!@\n",
    "                question, personalist, None, topk=5\n",
    "            ))"
   ]
  },
  {
   "cell_type": "code",
   "execution_count": 58,
   "metadata": {},
   "outputs": [
    {
     "name": "stdout",
     "output_type": "stream",
     "text": [
      "all scores : \n",
      "72 72 73 74 71 73 73 71 64 69 66 69 81 \n",
      "['What does Sarah do for a living',\n",
      " 'Sarah is studying to be a computer programmer.',\n",
      " 'Sarah is now looking for a new job.',\n",
      " \"Sarah's mother is very traditional while Sarah prefers to be more free \"\n",
      " 'spirited.',\n",
      " \"Sarah is a swim coach at Sarah's local pool.\"]\n"
     ]
    }
   ],
   "source": [
    "question = \"What does Sarah do for a living\"\n",
    "personalist = ['Sarah is 24 years old.', \n",
    "               'Sarah currently lives in Canada.', \n",
    "               \"Sarah is a swim coach at Sarah's local pool.\", \n",
    "               'Sarah is studying to be a computer programmer.', \n",
    "               'Sarah is also a graduate student.', \n",
    "               'Sarah is now looking for a new job.', \n",
    "               \"Sarah's mother is very traditional while Sarah prefers to be more free spirited.\", \n",
    "               \"Sarah's family and Sarah are from India.\", \n",
    "               \"Sarah's favorite music genre is death metal.\", \n",
    "               'Sarah is a famous twitch streamer.', \n",
    "               'Sarah likes watching war documentaries.', \n",
    "               \"Sarah's favorite food is mexican food.\",\n",
    "               \"What does Sarah do for a living\"\n",
    "              ]\n",
    "pprint(rt.retrieve_top_summaries( # here is using encodings.?!@\n",
    "                question, personalist, None, topk=5\n",
    "            ))"
   ]
  },
  {
   "cell_type": "code",
   "execution_count": null,
   "metadata": {},
   "outputs": [],
   "source": []
  },
  {
   "cell_type": "code",
   "execution_count": 59,
   "metadata": {},
   "outputs": [
    {
     "name": "stdout",
     "output_type": "stream",
     "text": [
      "all scores : \n",
      "68 67 71 68 66 65 76 74 72 71 71 77 55 \n",
      "[\"Sarah's favorite food is mexican food.\",\n",
      " \"Sarah's mother is very traditional while Sarah prefers to be more free \"\n",
      " 'spirited.',\n",
      " \"Sarah's family and Sarah are from India.\",\n",
      " \"Sarah's favorite music genre is death metal.\",\n",
      " 'Sarah likes watching war documentaries.']\n"
     ]
    }
   ],
   "source": [
    "question = \"What is Sarah's favorite animal?\"\n",
    "personalist = ['Sarah is 24 years old.', \n",
    "               'Sarah currently lives in Canada.', \n",
    "               \"Sarah is a swim coach at Sarah's local pool.\", \n",
    "               'Sarah is studying to be a computer programmer.', \n",
    "               'Sarah is also a graduate student.', \n",
    "               'Sarah is now looking for a new job.', \n",
    "               \"Sarah's mother is very traditional while Sarah prefers to be more free spirited.\", \n",
    "               \"Sarah's family and Sarah are from India.\", \n",
    "               \"Sarah's favorite music genre is death metal.\", \n",
    "               'Sarah is a famous twitch streamer.', \n",
    "               'Sarah likes watching war documentaries.', \n",
    "               \"Sarah's favorite food is mexican food.\",\n",
    "               \"not related\"\n",
    "              ]\n",
    "pprint(rt.retrieve_top_summaries( # here is using encodings.?!@\n",
    "                question, personalist, None, topk=5\n",
    "            ))"
   ]
  },
  {
   "cell_type": "code",
   "execution_count": 60,
   "metadata": {},
   "outputs": [
    {
     "name": "stdout",
     "output_type": "stream",
     "text": [
      "all scores : \n",
      "68 67 71 68 66 65 76 74 72 71 71 77 89 \n",
      "[\"What is Sarah's favorite animal?\",\n",
      " \"Sarah's favorite food is mexican food.\",\n",
      " \"Sarah's mother is very traditional while Sarah prefers to be more free \"\n",
      " 'spirited.',\n",
      " \"Sarah's family and Sarah are from India.\",\n",
      " \"Sarah's favorite music genre is death metal.\"]\n"
     ]
    }
   ],
   "source": [
    "question = \"What is Sarah's favorite animal?\"\n",
    "personalist = ['Sarah is 24 years old.', \n",
    "               'Sarah currently lives in Canada.', \n",
    "               \"Sarah is a swim coach at Sarah's local pool.\", \n",
    "               'Sarah is studying to be a computer programmer.', \n",
    "               'Sarah is also a graduate student.', \n",
    "               'Sarah is now looking for a new job.', \n",
    "               \"Sarah's mother is very traditional while Sarah prefers to be more free spirited.\", \n",
    "               \"Sarah's family and Sarah are from India.\", \n",
    "               \"Sarah's favorite music genre is death metal.\", \n",
    "               'Sarah is a famous twitch streamer.', \n",
    "               'Sarah likes watching war documentaries.', \n",
    "               \"Sarah's favorite food is mexican food.\",\n",
    "               \"What is Sarah's favorite animal?\"\n",
    "              ]\n",
    "pprint(rt.retrieve_top_summaries( # here is using encodings.?!@\n",
    "                question, personalist, None, topk=5\n",
    "            ))"
   ]
  },
  {
   "cell_type": "code",
   "execution_count": 61,
   "metadata": {},
   "outputs": [],
   "source": [
    "question = \"That's a bummer. Hopefully once you move out you can at least find something active that you enjoy doing with friends. How is the job search going?\"\n",
    "personalist = [\"Speaker 1 is professional basketball player.\",\n",
    "\"Speaker 2 is high school student.\",\n",
    "\"Speaker 2 is waiting to get a job.\",\n",
    "\"Speaker 2 would like to become an engineer.\",\n",
    "\"Speaker 2 used to play basketball.\",\n",
    "\"Speaker 2's dad is strict, preventing the speaker 2 from doing basketball as a profession.\"]"
   ]
  },
  {
   "cell_type": "code",
   "execution_count": 62,
   "metadata": {},
   "outputs": [
    {
     "name": "stdout",
     "output_type": "stream",
     "text": [
      "all scores : \n",
      "62 63 65 59 60 60 \n",
      "['Speaker 2 is waiting to get a job.',\n",
      " 'Speaker 2 is high school student.',\n",
      " 'Speaker 1 is professional basketball player.']\n"
     ]
    }
   ],
   "source": [
    "pprint(rt.retrieve_top_summaries( # here is using encodings.?!@\n",
    "                question, personalist, None, topk=3\n",
    "            ))"
   ]
  },
  {
   "cell_type": "code",
   "execution_count": 63,
   "metadata": {},
   "outputs": [
    {
     "name": "stdout",
     "output_type": "stream",
     "text": [
      "all scores : \n",
      "62 63 65 59 60 60 46 \n",
      "['Speaker 2 is waiting to get a job.',\n",
      " 'Speaker 2 is high school student.',\n",
      " 'Speaker 1 is professional basketball player.']\n"
     ]
    }
   ],
   "source": [
    "question = \"That's a bummer. Hopefully once you move out you can at least find something active that you enjoy doing with friends. How is the job search going?\"\n",
    "personalist = [\"Speaker 1 is professional basketball player.\",\n",
    "\"Speaker 2 is high school student.\",\n",
    "\"Speaker 2 is waiting to get a job.\",\n",
    "\"Speaker 2 would like to become an engineer.\",\n",
    "\"Speaker 2 used to play basketball.\",\n",
    "\"Speaker 2's dad is strict, preventing the speaker 2 from doing basketball as a profession.\",\n",
    "\"not related\"\n",
    "]\n",
    "pprint(rt.retrieve_top_summaries( # here is using encodings.?!@\n",
    "                question, personalist, None, topk=3\n",
    "            ))"
   ]
  },
  {
   "cell_type": "code",
   "execution_count": 64,
   "metadata": {},
   "outputs": [],
   "source": [
    "question = \"I should be able to do better. I just need to work harder at it. I missed 3 free throws, so my coach is pushing me hard at practice. Do you play basketball or any sports?\"\n",
    "personalist = [\"Speaker 1 is professional basketball player.\",\n",
    "\"Speaker 2 is high school student.\",\n",
    "\"Speaker 2 is waiting to get a job.\",\n",
    "\"Speaker 2 would like to become an engineer.\",\n",
    "\"Speaker 2 used to play basketball.\",\n",
    "\"Speaker 2's dad is strict, preventing the speaker 2 from doing basketball as a profession.\"]"
   ]
  },
  {
   "cell_type": "code",
   "execution_count": 65,
   "metadata": {},
   "outputs": [
    {
     "name": "stdout",
     "output_type": "stream",
     "text": [
      "all scores : \n",
      "56 56 56 53 56 62 \n",
      "[\"Speaker 2's dad is strict, preventing the speaker 2 from doing basketball as \"\n",
      " 'a profession.',\n",
      " 'Speaker 2 is high school student.',\n",
      " 'Speaker 2 used to play basketball.']\n"
     ]
    }
   ],
   "source": [
    "pprint(rt.retrieve_top_summaries( # here is using encodings.?!@\n",
    "                question, personalist, None, topk=3\n",
    "            ))"
   ]
  },
  {
   "cell_type": "code",
   "execution_count": 66,
   "metadata": {},
   "outputs": [],
   "source": [
    "question = \"This is meant as advice and a little funny. Buy one that is bright-colored so it won't blend in your surroundings and you lose it easily.\"\n",
    "personalist = [\"Speaker 1 works as waiter.\",\n",
    "\"Speaker 1 regrets career choices.\",\n",
    "\"Speaker 2’s roommates hate Speaker 2’s parakeet.\",\n",
    "\"Speaker 2’s favorite color is orange.\"]"
   ]
  },
  {
   "cell_type": "code",
   "execution_count": 67,
   "metadata": {},
   "outputs": [
    {
     "name": "stdout",
     "output_type": "stream",
     "text": [
      "all scores : \n",
      "53 55 57 62 \n",
      "['Speaker 2’s favorite color is orange.',\n",
      " 'Speaker 2’s roommates hate Speaker 2’s parakeet.']\n"
     ]
    }
   ],
   "source": [
    "pprint(rt.retrieve_top_summaries( # here is using encodings.?!@\n",
    "                question, personalist, None, topk=2\n",
    "            ))"
   ]
  },
  {
   "cell_type": "markdown",
   "metadata": {},
   "source": [
    "내가 직접 만든 예시"
   ]
  },
  {
   "cell_type": "code",
   "execution_count": 68,
   "metadata": {},
   "outputs": [
    {
     "name": "stdout",
     "output_type": "stream",
     "text": [
      "all scores : \n",
      "59 62 56 62 62 63 \n",
      "[\"Speaker 2's dad is strict, preventing the speaker 2 from doing basketball as \"\n",
      " 'a profession.',\n",
      " 'Speaker 2 would like to become an engineer.',\n",
      " 'Speaker 2 is high school student.']\n"
     ]
    }
   ],
   "source": [
    "question = \"Do you have any hobbies or interests outside of school and work?\"\n",
    "personalist = [\"Speaker 1 is professional basketball player.\",\n",
    "\"Speaker 2 is high school student.\",\n",
    "\"Speaker 2 is waiting to get a job.\",\n",
    "\"Speaker 2 would like to become an engineer.\",\n",
    "\"Speaker 2 used to play basketball.\",\n",
    "\"Speaker 2's dad is strict, preventing the speaker 2 from doing basketball as a profession.\"]\n",
    "pprint(rt.retrieve_top_summaries( # here is using encodings.?!@\n",
    "                question, personalist, None, topk=3\n",
    "            ))"
   ]
  },
  {
   "cell_type": "code",
   "execution_count": 80,
   "metadata": {},
   "outputs": [
    {
     "name": "stdout",
     "output_type": "stream",
     "text": [
      "all scores : \n",
      "65 62 66 63 65 60 \n",
      "['Speaker 2 is waiting to get a job.',\n",
      " 'Speaker 2 used to play basketball.',\n",
      " 'Speaker 1 is professional basketball player.']\n"
     ]
    }
   ],
   "source": [
    "question = \"Do you have any job outside of school and work?\"\n",
    "personalist = [\"Speaker 1 is professional basketball player.\",\n",
    "\"Speaker 2 is high school student.\",\n",
    "\"Speaker 2 is waiting to get a job.\",\n",
    "\"Speaker 2 would like to become an engineer.\",\n",
    "\"Speaker 2 used to play basketball.\",\n",
    "\"Speaker 2's dad is strict, preventing the speaker 2 from doing basketball as a profession.\"]\n",
    "pprint(rt.retrieve_top_summaries( # here is using encodings.?!@\n",
    "                question, personalist, None, topk=3\n",
    "            ))"
   ]
  },
  {
   "cell_type": "code",
   "execution_count": 69,
   "metadata": {},
   "outputs": [
    {
     "name": "stdout",
     "output_type": "stream",
     "text": [
      "all scores : \n",
      "74 74 67 68 71 72 \n",
      "['Speaker 1 is professional basketball player.',\n",
      " 'Speaker 2 is high school student.',\n",
      " \"Speaker 2's dad is strict, preventing the speaker 2 from doing basketball as \"\n",
      " 'a profession.']\n"
     ]
    }
   ],
   "source": [
    "question = \"Does Speaker 1 have any hobbies or interests outside of school and work?\"\n",
    "personalist = [\"Speaker 1 is professional basketball player.\",\n",
    "\"Speaker 2 is high school student.\",\n",
    "\"Speaker 2 is waiting to get a job.\",\n",
    "\"Speaker 2 would like to become an engineer.\",\n",
    "\"Speaker 2 used to play basketball.\",\n",
    "\"Speaker 2's dad is strict, preventing the speaker 2 from doing basketball as a profession.\"]\n",
    "pprint(rt.retrieve_top_summaries( # here is using encodings.?!@\n",
    "                question, personalist, None, topk=3\n",
    "            ))"
   ]
  },
  {
   "cell_type": "code",
   "execution_count": 70,
   "metadata": {},
   "outputs": [
    {
     "name": "stdout",
     "output_type": "stream",
     "text": [
      "all scores : \n",
      "56 60 54 59 61 60 \n",
      "['Speaker 2 used to play basketball.',\n",
      " 'Speaker 2 is high school student.',\n",
      " \"Speaker 2's dad is strict, preventing the speaker 2 from doing basketball as \"\n",
      " 'a profession.']\n"
     ]
    }
   ],
   "source": [
    "question = \"When you were a kid, did you have any hobbies or interests outside of school and work?\"\n",
    "personalist = [\"Speaker 1 is professional basketball player.\",\n",
    "\"Speaker 2 is high school student.\",\n",
    "\"Speaker 2 is waiting to get a job.\",\n",
    "\"Speaker 2 would like to become an engineer.\",\n",
    "\"Speaker 2 used to play basketball.\",\n",
    "\"Speaker 2's dad is strict, preventing the speaker 2 from doing basketball as a profession.\"]\n",
    "pprint(rt.retrieve_top_summaries( # here is using encodings.?!@\n",
    "                question, personalist, None, topk=3\n",
    "            ))"
   ]
  },
  {
   "cell_type": "markdown",
   "metadata": {},
   "source": [
    "페르소나 수를 늘려보자"
   ]
  },
  {
   "cell_type": "code",
   "execution_count": 71,
   "metadata": {},
   "outputs": [
    {
     "name": "stdout",
     "output_type": "stream",
     "text": [
      "all scores : \n",
      "62 60 53 62 55 58 55 54 61 62 50 54 \n",
      "['Speaker 1 has a fear of deep water.',\n",
      " 'Speaker 2 loves mystery novels and has a collection.',\n",
      " 'Speaker 1 is passionate rock climber.']\n"
     ]
    }
   ],
   "source": [
    "question = \"Do you enjoy outdoor adventures or prefer staying indoors?\"\n",
    "personalist = [\"Speaker 1 is passionate rock climber.\",\n",
    "\"Speaker 1 grew up on a farm in the countryside.\",\n",
    "\"Speaker 1 is a trained classical pianist.\",\n",
    "\"Speaker 1 has a fear of deep water.\",\n",
    "\"Speaker 1 is a professional photographer.\",\n",
    "\"Speaker 1 volunteered in a wildlife sanctuary last summer.\",\n",
    "\"Speaker 2 is a professional dancer specializing in contemporary dance.\",\n",
    "\"Speaker 2 has lived in three different countries.\",\n",
    "\"Speaker 2 is studying marine biology.\",\n",
    "\"Speaker 2 loves mystery novels and has a collection.\",\n",
    "\"Speaker 2 has a twin sibling.\",\n",
    "\"Speaker 2 is allergic to peanuts.\",              \n",
    "]\n",
    "pprint(rt.retrieve_top_summaries( # here is using encodings.?!@\n",
    "                question, personalist, None, topk=3\n",
    "            ))"
   ]
  },
  {
   "cell_type": "code",
   "execution_count": 72,
   "metadata": {},
   "outputs": [
    {
     "name": "stdout",
     "output_type": "stream",
     "text": [
      "all scores : \n",
      "59 57 59 52 65 58 60 54 61 55 50 49 \n",
      "['Speaker 1 is a professional photographer.',\n",
      " 'Speaker 2 is studying marine biology.',\n",
      " 'Speaker 2 is a professional dancer specializing in contemporary dance.']\n"
     ]
    }
   ],
   "source": [
    "question = \"Your perspective on things is unique. Does your profession involve capturing moments or emotions?\"\n",
    "personalist = [\"Speaker 1 is passionate rock climber.\",\n",
    "\"Speaker 1 grew up on a farm in the countryside.\",\n",
    "\"Speaker 1 is a trained classical pianist.\",\n",
    "\"Speaker 1 has a fear of deep water.\",\n",
    "\"Speaker 1 is a professional photographer.\",\n",
    "\"Speaker 1 volunteered in a wildlife sanctuary last summer.\",\n",
    "\"Speaker 2 is a professional dancer specializing in contemporary dance.\",\n",
    "\"Speaker 2 has lived in three different countries.\",\n",
    "\"Speaker 2 is studying marine biology.\",\n",
    "\"Speaker 2 loves mystery novels and has a collection.\",\n",
    "\"Speaker 2 has a twin sibling.\",\n",
    "\"Speaker 2 is allergic to peanuts.\",              \n",
    "]\n",
    "pprint(rt.retrieve_top_summaries( # here is using encodings.?!@\n",
    "                question, personalist, None, topk=3\n",
    "            ))"
   ]
  },
  {
   "cell_type": "code",
   "execution_count": 73,
   "metadata": {},
   "outputs": [
    {
     "name": "stdout",
     "output_type": "stream",
     "text": [
      "all scores : \n",
      "62 61 63 59 60 59 67 60 62 61 56 56 \n",
      "['Speaker 2 is a professional dancer specializing in contemporary dance.',\n",
      " 'Speaker 1 is a trained classical pianist.',\n",
      " 'Speaker 1 is passionate rock climber.']\n"
     ]
    }
   ],
   "source": [
    "question = \"You have such a fluid movement. Is there a specific art form you're involved in?\"\n",
    "personalist = [\"Speaker 1 is passionate rock climber.\",\n",
    "\"Speaker 1 grew up on a farm in the countryside.\",\n",
    "\"Speaker 1 is a trained classical pianist.\",\n",
    "\"Speaker 1 has a fear of deep water.\",\n",
    "\"Speaker 1 is a professional photographer.\",\n",
    "\"Speaker 1 volunteered in a wildlife sanctuary last summer.\",\n",
    "\"Speaker 2 is a professional dancer specializing in contemporary dance.\",\n",
    "\"Speaker 2 has lived in three different countries.\",\n",
    "\"Speaker 2 is studying marine biology.\",\n",
    "\"Speaker 2 loves mystery novels and has a collection.\",\n",
    "\"Speaker 2 has a twin sibling.\",\n",
    "\"Speaker 2 is allergic to peanuts.\",              \n",
    "]\n",
    "pprint(rt.retrieve_top_summaries( # here is using encodings.?!@\n",
    "                question, personalist, None, topk=3\n",
    "            ))"
   ]
  },
  {
   "cell_type": "code",
   "execution_count": 74,
   "metadata": {},
   "outputs": [
    {
     "name": "stdout",
     "output_type": "stream",
     "text": [
      "all scores : \n",
      "57 60 57 55 58 60 58 66 57 57 54 50 \n",
      "['Speaker 2 has lived in three different countries.',\n",
      " 'Speaker 1 volunteered in a wildlife sanctuary last summer.',\n",
      " 'Speaker 1 grew up on a farm in the countryside.']\n"
     ]
    }
   ],
   "source": [
    "question = \"You seem to have a diverse cultural understanding. Have you lived in multiple places?\"\n",
    "personalist = [\"Speaker 1 is passionate rock climber.\",\n",
    "\"Speaker 1 grew up on a farm in the countryside.\",\n",
    "\"Speaker 1 is a trained classical pianist.\",\n",
    "\"Speaker 1 has a fear of deep water.\",\n",
    "\"Speaker 1 is a professional photographer.\",\n",
    "\"Speaker 1 volunteered in a wildlife sanctuary last summer.\",\n",
    "\"Speaker 2 is a professional dancer specializing in contemporary dance.\",\n",
    "\"Speaker 2 has lived in three different countries.\",\n",
    "\"Speaker 2 is studying marine biology.\",\n",
    "\"Speaker 2 loves mystery novels and has a collection.\",\n",
    "\"Speaker 2 has a twin sibling.\",\n",
    "\"Speaker 2 is allergic to peanuts.\",              \n",
    "]\n",
    "pprint(rt.retrieve_top_summaries( # here is using encodings.?!@\n",
    "                question, personalist, None, topk=3\n",
    "            ))"
   ]
  },
  {
   "cell_type": "markdown",
   "metadata": {},
   "source": [
    "질문 말고 평문으로 해보자"
   ]
  },
  {
   "cell_type": "code",
   "execution_count": 75,
   "metadata": {},
   "outputs": [
    {
     "name": "stdout",
     "output_type": "stream",
     "text": [
      "all scores : \n",
      "65 56 58 63 58 55 59 53 60 58 52 54 \n",
      "['Speaker 1 is passionate rock climber.',\n",
      " 'Speaker 1 has a fear of deep water.',\n",
      " 'Speaker 2 is studying marine biology.']\n"
     ]
    }
   ],
   "source": [
    "question = \"I've always admired people who challenge themselves physically, especially in nature.\"\n",
    "personalist = [\"Speaker 1 is passionate rock climber.\",\n",
    "\"Speaker 1 grew up on a farm in the countryside.\",\n",
    "\"Speaker 1 is a trained classical pianist.\",\n",
    "\"Speaker 1 has a fear of deep water.\",\n",
    "\"Speaker 1 is a professional photographer.\",\n",
    "\"Speaker 1 volunteered in a wildlife sanctuary last summer.\",\n",
    "\"Speaker 2 is a professional dancer specializing in contemporary dance.\",\n",
    "\"Speaker 2 has lived in three different countries.\",\n",
    "\"Speaker 2 is studying marine biology.\",\n",
    "\"Speaker 2 loves mystery novels and has a collection.\",\n",
    "\"Speaker 2 has a twin sibling.\",\n",
    "\"Speaker 2 is allergic to peanuts.\",              \n",
    "]\n",
    "pprint(rt.retrieve_top_summaries( # here is using encodings.?!@\n",
    "                question, personalist, None, topk=3\n",
    "            ))"
   ]
  },
  {
   "cell_type": "code",
   "execution_count": 76,
   "metadata": {},
   "outputs": [
    {
     "name": "stdout",
     "output_type": "stream",
     "text": [
      "all scores : \n",
      "57 57 57 51 60 57 58 54 58 57 53 50 \n",
      "['Speaker 1 is a professional photographer.',\n",
      " 'Speaker 2 is studying marine biology.',\n",
      " 'Speaker 2 is a professional dancer specializing in contemporary dance.']\n"
     ]
    }
   ],
   "source": [
    "question = \"Capturing moments can be so powerful. I've always believed that some people can see the world in a different light.\"\n",
    "personalist = [\"Speaker 1 is passionate rock climber.\",\n",
    "\"Speaker 1 grew up on a farm in the countryside.\",\n",
    "\"Speaker 1 is a trained classical pianist.\",\n",
    "\"Speaker 1 has a fear of deep water.\",\n",
    "\"Speaker 1 is a professional photographer.\",\n",
    "\"Speaker 1 volunteered in a wildlife sanctuary last summer.\",\n",
    "\"Speaker 2 is a professional dancer specializing in contemporary dance.\",\n",
    "\"Speaker 2 has lived in three different countries.\",\n",
    "\"Speaker 2 is studying marine biology.\",\n",
    "\"Speaker 2 loves mystery novels and has a collection.\",\n",
    "\"Speaker 2 has a twin sibling.\",\n",
    "\"Speaker 2 is allergic to peanuts.\",              \n",
    "]\n",
    "pprint(rt.retrieve_top_summaries( # here is using encodings.?!@\n",
    "                question, personalist, None, topk=3\n",
    "            ))"
   ]
  },
  {
   "cell_type": "code",
   "execution_count": 77,
   "metadata": {},
   "outputs": [
    {
     "name": "stdout",
     "output_type": "stream",
     "text": [
      "all scores : \n",
      "57 56 59 52 56 56 63 56 58 54 53 51 \n",
      "['Speaker 2 is a professional dancer specializing in contemporary dance.',\n",
      " 'Speaker 1 is a trained classical pianist.',\n",
      " 'Speaker 2 is studying marine biology.']\n"
     ]
    }
   ],
   "source": [
    "question = \"There's something about the way you move; it reminds me of an art performance.\"\n",
    "personalist = [\"Speaker 1 is passionate rock climber.\",\n",
    "\"Speaker 1 grew up on a farm in the countryside.\",\n",
    "\"Speaker 1 is a trained classical pianist.\",\n",
    "\"Speaker 1 has a fear of deep water.\",\n",
    "\"Speaker 1 is a professional photographer.\",\n",
    "\"Speaker 1 volunteered in a wildlife sanctuary last summer.\",\n",
    "\"Speaker 2 is a professional dancer specializing in contemporary dance.\",\n",
    "\"Speaker 2 has lived in three different countries.\",\n",
    "\"Speaker 2 is studying marine biology.\",\n",
    "\"Speaker 2 loves mystery novels and has a collection.\",\n",
    "\"Speaker 2 has a twin sibling.\",\n",
    "\"Speaker 2 is allergic to peanuts.\",              \n",
    "]\n",
    "pprint(rt.retrieve_top_summaries( # here is using encodings.?!@\n",
    "                question, personalist, None, topk=3\n",
    "            ))"
   ]
  },
  {
   "cell_type": "code",
   "execution_count": 78,
   "metadata": {},
   "outputs": [
    {
     "name": "stdout",
     "output_type": "stream",
     "text": [
      "all scores : \n",
      "53 55 56 48 52 52 53 58 56 57 55 50 \n",
      "['Speaker 2 has lived in three different countries.',\n",
      " 'Speaker 2 loves mystery novels and has a collection.',\n",
      " 'Speaker 1 is a trained classical pianist.']\n"
     ]
    }
   ],
   "source": [
    "question = \"Your worldview seems so expansive, like you've absorbed bits from various cultures.\"\n",
    "personalist = [\"Speaker 1 is passionate rock climber.\",\n",
    "\"Speaker 1 grew up on a farm in the countryside.\",\n",
    "\"Speaker 1 is a trained classical pianist.\",\n",
    "\"Speaker 1 has a fear of deep water.\",\n",
    "\"Speaker 1 is a professional photographer.\",\n",
    "\"Speaker 1 volunteered in a wildlife sanctuary last summer.\",\n",
    "\"Speaker 2 is a professional dancer specializing in contemporary dance.\",\n",
    "\"Speaker 2 has lived in three different countries.\",\n",
    "\"Speaker 2 is studying marine biology.\",\n",
    "\"Speaker 2 loves mystery novels and has a collection.\",\n",
    "\"Speaker 2 has a twin sibling.\",\n",
    "\"Speaker 2 is allergic to peanuts.\",              \n",
    "]\n",
    "pprint(rt.retrieve_top_summaries( # here is using encodings.?!@\n",
    "                question, personalist, None, topk=3\n",
    "            ))"
   ]
  },
  {
   "cell_type": "code",
   "execution_count": null,
   "metadata": {},
   "outputs": [],
   "source": []
  },
  {
   "cell_type": "code",
   "execution_count": null,
   "metadata": {},
   "outputs": [],
   "source": []
  },
  {
   "cell_type": "code",
   "execution_count": null,
   "metadata": {},
   "outputs": [],
   "source": []
  }
 ],
 "metadata": {
  "kernelspec": {
   "display_name": "dprvenv",
   "language": "python",
   "name": "dprvenv"
  },
  "language_info": {
   "codemirror_mode": {
    "name": "ipython",
    "version": 3
   },
   "file_extension": ".py",
   "mimetype": "text/x-python",
   "name": "python",
   "nbconvert_exporter": "python",
   "pygments_lexer": "ipython3",
   "version": "3.7.6"
  }
 },
 "nbformat": 4,
 "nbformat_minor": 4
}
